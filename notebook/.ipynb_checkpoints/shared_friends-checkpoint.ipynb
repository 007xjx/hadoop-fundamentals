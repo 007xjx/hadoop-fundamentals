{
 "cells": [
  {
   "cell_type": "markdown",
   "metadata": {},
   "source": [
    "# Friends of Friends Data Example"
   ]
  },
  {
   "cell_type": "code",
   "execution_count": 2,
   "metadata": {
    "collapsed": true
   },
   "outputs": [],
   "source": [
    "import os\n",
    "import csv\n",
    "\n",
    "import StringIO\n",
    "from os import path as filepath\n",
    "from pyspark import SparkConf, SparkContext"
   ]
  },
  {
   "cell_type": "code",
   "execution_count": 3,
   "metadata": {
    "collapsed": true
   },
   "outputs": [],
   "source": [
    "HDFS = \"hdfs://{}\".format(os.environ[\"HDFS\"])\n",
    "USER = filepath.join(HDFS, \"user\", \"ec2-user\")\n",
    "FILE = filepath.join(USER, \"fof.txt\")"
   ]
  },
  {
   "cell_type": "code",
   "execution_count": 4,
   "metadata": {
    "collapsed": false
   },
   "outputs": [
    {
     "data": {
      "text/plain": [
       "[u'noreply@comsoc.org\\tbenjamin@bengfort.com',\n",
       " u'paul.amayo@linacre.ox.ac.uk\\trhodes@maillist.ox.ac.uk',\n",
       " u'notifications@github.com\\tpartisan-discourse@noreply.github.com',\n",
       " u'messaging-digest-noreply@linkedin.com\\tbenjamin@bengfort.com',\n",
       " u'noreply@youtube.com\\tbenjamin@bengfort.com']"
      ]
     },
     "execution_count": 4,
     "metadata": {},
     "output_type": "execute_result"
    }
   ],
   "source": [
    "fof = sc.textFile(FILE)\n",
    "fof.take(5)"
   ]
  },
  {
   "cell_type": "code",
   "execution_count": 5,
   "metadata": {
    "collapsed": false,
    "scrolled": true
   },
   "outputs": [
    {
     "data": {
      "text/plain": [
       "[(u'noreply@comsoc.org', [u'benjamin@bengfort.com']),\n",
       " (u'paul.amayo@linacre.ox.ac.uk', [u'rhodes@maillist.ox.ac.uk']),\n",
       " (u'notifications@github.com', [u'partisan-discourse@noreply.github.com']),\n",
       " (u'messaging-digest-noreply@linkedin.com', [u'benjamin@bengfort.com']),\n",
       " (u'noreply@youtube.com', [u'benjamin@bengfort.com']),\n",
       " (u'info@meetup.com', [u'benjamin@bengfort.com']),\n",
       " (u'benjamin@bengfort.com', [u'keleher@cs.umd.edu']),\n",
       " (u'keleher@cs.umd.edu', [u'benjamin@bengfort.com']),\n",
       " (u'benjamin@bengfort.com', [u'keleher@cs.umd.edu']),\n",
       " (u'keleher@cs.umd.edu', [u'benjamin@bengfort.com'])]"
      ]
     },
     "execution_count": 5,
     "metadata": {},
     "output_type": "execute_result"
    }
   ],
   "source": [
    "import re\n",
    "pattern = re.compile(\"\\t+\")\n",
    "\n",
    "fof_split = fof.map(lambda x: pattern.split(x)).map(lambda x: (x[0],x[1].split(\",\")))\n",
    "fof_split.take(10)"
   ]
  },
  {
   "cell_type": "markdown",
   "metadata": {},
   "source": [
    "## Basic Operations"
   ]
  },
  {
   "cell_type": "markdown",
   "metadata": {},
   "source": [
    "### Count the total number of emails"
   ]
  },
  {
   "cell_type": "code",
   "execution_count": 6,
   "metadata": {
    "collapsed": false
   },
   "outputs": [
    {
     "data": {
      "text/plain": [
       "141616"
      ]
     },
     "execution_count": 6,
     "metadata": {},
     "output_type": "execute_result"
    }
   ],
   "source": [
    "fof_split.count()"
   ]
  },
  {
   "cell_type": "markdown",
   "metadata": {},
   "source": [
    "### Count the number of unique senders"
   ]
  },
  {
   "cell_type": "code",
   "execution_count": 7,
   "metadata": {
    "collapsed": false
   },
   "outputs": [
    {
     "data": {
      "text/plain": [
       "3395"
      ]
     },
     "execution_count": 7,
     "metadata": {},
     "output_type": "execute_result"
    }
   ],
   "source": [
    "senders = fof_split.map(lambda x:(x[0]))\n",
    "unique_senders = senders.distinct()\n",
    "unique_senders.count()"
   ]
  },
  {
   "cell_type": "markdown",
   "metadata": {},
   "source": [
    "### Number of emails that came from a certain person"
   ]
  },
  {
   "cell_type": "code",
   "execution_count": 8,
   "metadata": {
    "collapsed": false
   },
   "outputs": [
    {
     "data": {
      "text/plain": [
       "58333"
      ]
     },
     "execution_count": 8,
     "metadata": {},
     "output_type": "execute_result"
    }
   ],
   "source": [
    "from_sender = fof_split.filter(lambda x: x[0] == 'benjamin@bengfort.com').collect()\n",
    "len(from_sender)"
   ]
  },
  {
   "cell_type": "code",
   "execution_count": 9,
   "metadata": {
    "collapsed": false
   },
   "outputs": [
    {
     "data": {
      "text/plain": [
       "1718"
      ]
     },
     "execution_count": 9,
     "metadata": {},
     "output_type": "execute_result"
    }
   ],
   "source": [
    "from_sender = fof_split.filter(lambda x: x[0] == 'ojedatony1616@gmail.com').collect()\n",
    "len(from_sender)"
   ]
  },
  {
   "cell_type": "markdown",
   "metadata": {},
   "source": [
    "## Shared Friendship\n",
    "\n",
    "In the shared friendship task, the goal is to analyze a social network to see which friend relationships users have in common. This is both the first step to downstream analytics like “you might know” recommendations, but also a critical part of social networks that might only want to allow you to share with friends and friends-of-friends."
   ]
  },
  {
   "cell_type": "code",
   "execution_count": 29,
   "metadata": {
    "collapsed": true
   },
   "outputs": [],
   "source": [
    "def pair_friends((person, friends)):\n",
    "    for friend in friends:\n",
    "        pair = sorted([person, friend])\n",
    "        return (tuple(pair), set(friends))"
   ]
  },
  {
   "cell_type": "code",
   "execution_count": 30,
   "metadata": {
    "collapsed": false
   },
   "outputs": [
    {
     "data": {
      "text/plain": [
       "[((u'benjamin@bengfort.com', u'noreply@comsoc.org'),\n",
       "  {u'benjamin@bengfort.com'}),\n",
       " ((u'paul.amayo@linacre.ox.ac.uk', u'rhodes@maillist.ox.ac.uk'),\n",
       "  {u'rhodes@maillist.ox.ac.uk'}),\n",
       " ((u'notifications@github.com', u'partisan-discourse@noreply.github.com'),\n",
       "  {u'partisan-discourse@noreply.github.com'}),\n",
       " ((u'benjamin@bengfort.com', u'messaging-digest-noreply@linkedin.com'),\n",
       "  {u'benjamin@bengfort.com'}),\n",
       " ((u'benjamin@bengfort.com', u'noreply@youtube.com'),\n",
       "  {u'benjamin@bengfort.com'}),\n",
       " ((u'benjamin@bengfort.com', u'info@meetup.com'), {u'benjamin@bengfort.com'}),\n",
       " ((u'benjamin@bengfort.com', u'keleher@cs.umd.edu'), {u'keleher@cs.umd.edu'}),\n",
       " ((u'benjamin@bengfort.com', u'keleher@cs.umd.edu'),\n",
       "  {u'benjamin@bengfort.com'}),\n",
       " ((u'benjamin@bengfort.com', u'keleher@cs.umd.edu'), {u'keleher@cs.umd.edu'}),\n",
       " ((u'benjamin@bengfort.com', u'keleher@cs.umd.edu'),\n",
       "  {u'benjamin@bengfort.com'})]"
      ]
     },
     "execution_count": 30,
     "metadata": {},
     "output_type": "execute_result"
    }
   ],
   "source": [
    "paired = fof_split.map(pair_friends)\n",
    "paired.take(10)"
   ]
  },
  {
   "cell_type": "code",
   "execution_count": 37,
   "metadata": {
    "collapsed": true
   },
   "outputs": [],
   "source": [
    "def shared_friends(fla, flb): \n",
    "    shared = fla.intersection(flb)\n",
    "    return shared"
   ]
  },
  {
   "cell_type": "code",
   "execution_count": 40,
   "metadata": {
    "collapsed": false,
    "scrolled": true
   },
   "outputs": [
    {
     "data": {
      "text/plain": [
       "[((u'ben@klemens.org', u'harlan.harris@gmail.com'),\n",
       "  {u'ajschumacher@gmail.com',\n",
       "   u'alexcengler@gmail.com',\n",
       "   u'amgallow@gmail.com',\n",
       "   u'ben@klemens.org',\n",
       "   u'board@datacommunitydc.org',\n",
       "   u'cathryn.rabinowitz@gmail.com',\n",
       "   u'deborah.bey1@gmail.com',\n",
       "   u'dmitri.adler@gmail.com',\n",
       "   u'elbertventura@gmail.com',\n",
       "   u'emeritus@datacommunitydc.org',\n",
       "   u'goukas@gmail.com',\n",
       "   u'heather_klemick@yahoo.com',\n",
       "   u'j.hustwit@gmail.com',\n",
       "   u'jk2k.net@gmail.com',\n",
       "   u'joshsz@gmail.com',\n",
       "   u'jt@occams.info',\n",
       "   u'justgrimes@gmail.com',\n",
       "   u'kate.mereand@gmail.com',\n",
       "   u'm@winteram.com',\n",
       "   u'marcus.louie@gmail.com',\n",
       "   u'me.price.99@gmail.com',\n",
       "   u'merav@datasociety.co',\n",
       "   u'mnortrup@yahoo.com',\n",
       "   u'nora.g.albert@gmail.com',\n",
       "   u'parrymarc@yahoo.com',\n",
       "   u'rahul@mereand-sinha.com',\n",
       "   u'shaungitt@gmail.com'}),\n",
       " ((u'mount@cs.umd.edu', u'mount@cs.umd.edu'),\n",
       "  {u'mount@cs.umd.edu', u'pagh@itu.dk'}),\n",
       " ((u'bilbro@gmail.com', u'georgetown-data-analytics@googlegroups.com'),\n",
       "  {u'georgetown-data-analytics@googlegroups.com'}),\n",
       " ((u'josannahkeller@gmail.com', u'peter@istrategylabs.com'),\n",
       "  {u'dj@istrategylabs.com', u'peter@istrategylabs.com'}),\n",
       " ((u'a.h.dean@gmail.com', u'julian.gewirtz@gmail.com'),\n",
       "  {u'a.h.dean@gmail.com',\n",
       "   u'arushi.garg.90@gmail.com',\n",
       "   u'bhadrasubhashish@gmail.com',\n",
       "   u'bhaskarbhushan26@gmail.com',\n",
       "   u'brian.w.mcgrail@gmail.com',\n",
       "   u'dakota.mccoy@st-hildas.ox.ac.uk',\n",
       "   u'daniel.young@balliol.ox.ac.uk',\n",
       "   u'gautambhatia1988@gmail.com',\n",
       "   u'kopano.mabaso@dph.ox.ac.uk',\n",
       "   u'ludosabone@gmail.com',\n",
       "   u'nanjala.nyabola@yahoo.co.uk',\n",
       "   u'naseemah.mohamed@gmail.com',\n",
       "   u'natalya.din-kariuki@balliol.ox.ac.uk',\n",
       "   u'rachel.carrell@gmail.com',\n",
       "   u'rhodes@maillist.ox.ac.uk',\n",
       "   u'sean.muller@gmail.com',\n",
       "   u'stevensymo@gmail.com',\n",
       "   u'turner.wfu@gmail.com',\n",
       "   u'vivek.naranbhai@keble.ox.ac.uk'}),\n",
       " ((u'andy@cobrain.com', u'grantmcgovern.mcgovern@gmail.com'),\n",
       "  {u'andy@cobrain.com', u'ben@cobrain.com'}),\n",
       " ((u'benjamin@bengfort.com', u'billing@unboundconcepts.com'),\n",
       "  {u'billing@unboundconcepts.com'}),\n",
       " ((u'bbengfort@gmail.com', u'invoicecsb@collinstreet.com'),\n",
       "  {u'bbengfort@gmail.com'}),\n",
       " ((u'benjamin@bengfort.com',\n",
       "   u'em-b72h4cybxybr4qauvs8euq1ppuukqu@m.exprpt.com'),\n",
       "  {u'em-b72h4cybxybr4qauvs8euq1ppuukqu@m.exprpt.com'}),\n",
       " ((u'ews28@georgetown.edu', u'haz3@georgetown.edu'),\n",
       "  {u'al985@georgetown.edu', u'bb830@georgetown.edu'})]"
      ]
     },
     "execution_count": 40,
     "metadata": {},
     "output_type": "execute_result"
    }
   ],
   "source": [
    "reduced = paired.reduceByKey(shared_friends)\n",
    "reduced = reduced.filter(lambda (k,v): len(v) > 0)\n",
    "reduced.take(10)"
   ]
  }
 ],
 "metadata": {
  "kernelspec": {
   "display_name": "Python 2",
   "language": "python",
   "name": "python2"
  }
 },
 "nbformat": 4,
 "nbformat_minor": 0
}
