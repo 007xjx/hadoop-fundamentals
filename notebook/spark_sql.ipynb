{
 "cells": [
  {
   "cell_type": "markdown",
   "metadata": {},
   "source": [
    "## SparkSQL"
   ]
  },
  {
   "cell_type": "code",
   "execution_count": 1,
   "metadata": {
    "collapsed": true
   },
   "outputs": [],
   "source": [
    "import os\n",
    "from os import path as filepath\n",
    "from pyspark.sql import SQLContext"
   ]
  },
  {
   "cell_type": "code",
   "execution_count": 2,
   "metadata": {
    "collapsed": true
   },
   "outputs": [],
   "source": [
    "sqlContext = SQLContext(sc)"
   ]
  },
  {
   "cell_type": "code",
   "execution_count": 3,
   "metadata": {
    "collapsed": false
   },
   "outputs": [],
   "source": [
    "HDFS = \"hdfs://{}\".format(os.environ[\"HDFS\"])\n",
    "USER = filepath.join(HDFS, \"user\", \"ec2-user\")\n",
    "FILE = filepath.join(USER, \"sf_parking/sf_parking_clean.json\")"
   ]
  },
  {
   "cell_type": "code",
   "execution_count": 13,
   "metadata": {
    "collapsed": true
   },
   "outputs": [],
   "source": [
    "parking = sqlContext.read.json(FILE)"
   ]
  },
  {
   "cell_type": "code",
   "execution_count": 14,
   "metadata": {
    "collapsed": false
   },
   "outputs": [
    {
     "name": "stdout",
     "output_type": "stream",
     "text": [
      "+--------------------+--------+----------+--------------------+-----+----------+---------+------+----------+--------+\n",
      "|             address|garorlot|landusetyp|          location_1|mccap|     owner|primetype|regcap|secondtype|valetcap|\n",
      "+--------------------+--------+----------+--------------------+-----+----------+---------+------+----------+--------+\n",
      "|      2110 Market St|       L|restaurant|[37.767378,-122.4...|    0|   Private|      PPA|    13|          |       0|\n",
      "|         993 Potrero|       L|          |[37.757272,-122.4...|    0|     SFMTA|      PPA|    34|          |       0|\n",
      "|601 Terry A Franc...|       L|          |[37.770135,-122.3...|    0|Port of SF|      PPA|    72|          |       0|\n",
      "|   11 SOUTH VAN NESS|       G|          |[37.77415,-122.41...|    0|   Private|      PHO|   130|       CPO|       0|\n",
      "|   101 CALIFORNIA ST|       G|          |[37.793243,-122.3...|    0|   Private|      PPA|   250|          |       0|\n",
      "|        2000 POST ST|       G|          |[37.785078,-122.4...|    0|   Private|      PPA|   304|          |       0|\n",
      "|   600 CALIFORNIA ST|       G|          |[37.792779,-122.4...|    0|   Private|      PPA|   197|          |       0|\n",
      "|       35 GILBERT ST|        |          |[37.774337,-122.4...|    0|   Private|      PPA|    80|          |       0|\n",
      "|        2355 POST ST|       L|          |[37.78397,-122.44...|    0|   Private|      PPA|    50|          |       0|\n",
      "|      801 STANYAN ST|       L|          |[37.767202,-122.4...|    0|       RPD|      PPA|   324|          |       0|\n",
      "+--------------------+--------+----------+--------------------+-----+----------+---------+------+----------+--------+\n",
      "only showing top 10 rows\n",
      "\n"
     ]
    }
   ],
   "source": [
    "parking.show(10)"
   ]
  },
  {
   "cell_type": "markdown",
   "metadata": {},
   "source": [
    "### Examine Schema and Change Data Types "
   ]
  },
  {
   "cell_type": "code",
   "execution_count": 15,
   "metadata": {
    "collapsed": false
   },
   "outputs": [
    {
     "name": "stdout",
     "output_type": "stream",
     "text": [
      "root\n",
      " |-- address: string (nullable = true)\n",
      " |-- garorlot: string (nullable = true)\n",
      " |-- landusetyp: string (nullable = true)\n",
      " |-- location_1: struct (nullable = true)\n",
      " |    |-- latitude: string (nullable = true)\n",
      " |    |-- longitude: string (nullable = true)\n",
      " |    |-- needs_recoding: boolean (nullable = true)\n",
      " |-- mccap: string (nullable = true)\n",
      " |-- owner: string (nullable = true)\n",
      " |-- primetype: string (nullable = true)\n",
      " |-- regcap: string (nullable = true)\n",
      " |-- secondtype: string (nullable = true)\n",
      " |-- valetcap: string (nullable = true)\n",
      "\n"
     ]
    }
   ],
   "source": [
    "parking.printSchema()"
   ]
  },
  {
   "cell_type": "code",
   "execution_count": 16,
   "metadata": {
    "collapsed": true
   },
   "outputs": [],
   "source": [
    "def convert_column(df, col, new_type):\n",
    "    old_col = '%s_old' % col\n",
    "    df = df.withColumnRenamed(col, old_col)\n",
    "    df = df.withColumn(col, df[old_col].cast(new_type))\n",
    "    df = df.drop(old_col)\n",
    "    return df\n",
    "\n",
    "int_columns = ['regcap', 'valetcap', 'mccap']\n",
    "\n",
    "for col in int_columns:\n",
    "    parking = convert_column(parking, col, 'int')"
   ]
  },
  {
   "cell_type": "code",
   "execution_count": 17,
   "metadata": {
    "collapsed": false
   },
   "outputs": [
    {
     "name": "stdout",
     "output_type": "stream",
     "text": [
      "root\n",
      " |-- address: string (nullable = true)\n",
      " |-- garorlot: string (nullable = true)\n",
      " |-- landusetyp: string (nullable = true)\n",
      " |-- location_1: struct (nullable = true)\n",
      " |    |-- latitude: string (nullable = true)\n",
      " |    |-- longitude: string (nullable = true)\n",
      " |    |-- needs_recoding: boolean (nullable = true)\n",
      " |-- owner: string (nullable = true)\n",
      " |-- primetype: string (nullable = true)\n",
      " |-- secondtype: string (nullable = true)\n",
      " |-- regcap: integer (nullable = true)\n",
      " |-- valetcap: integer (nullable = true)\n",
      " |-- mccap: integer (nullable = true)\n",
      "\n"
     ]
    }
   ],
   "source": [
    "parking.printSchema()"
   ]
  },
  {
   "cell_type": "code",
   "execution_count": 18,
   "metadata": {
    "collapsed": false
   },
   "outputs": [
    {
     "name": "stdout",
     "output_type": "stream",
     "text": [
      "+--------------------+--------+----------+--------------------+----------+---------+----------+------+--------+-----+\n",
      "|             address|garorlot|landusetyp|          location_1|     owner|primetype|secondtype|regcap|valetcap|mccap|\n",
      "+--------------------+--------+----------+--------------------+----------+---------+----------+------+--------+-----+\n",
      "|      2110 Market St|       L|restaurant|[37.767378,-122.4...|   Private|      PPA|          |    13|       0|    0|\n",
      "|         993 Potrero|       L|          |[37.757272,-122.4...|     SFMTA|      PPA|          |    34|       0|    0|\n",
      "|601 Terry A Franc...|       L|          |[37.770135,-122.3...|Port of SF|      PPA|          |    72|       0|    0|\n",
      "|   11 SOUTH VAN NESS|       G|          |[37.77415,-122.41...|   Private|      PHO|       CPO|   130|       0|    0|\n",
      "|   101 CALIFORNIA ST|       G|          |[37.793243,-122.3...|   Private|      PPA|          |   250|       0|    0|\n",
      "|        2000 POST ST|       G|          |[37.785078,-122.4...|   Private|      PPA|          |   304|       0|    0|\n",
      "|   600 CALIFORNIA ST|       G|          |[37.792779,-122.4...|   Private|      PPA|          |   197|       0|    0|\n",
      "|       35 GILBERT ST|        |          |[37.774337,-122.4...|   Private|      PPA|          |    80|       0|    0|\n",
      "|        2355 POST ST|       L|          |[37.78397,-122.44...|   Private|      PPA|          |    50|       0|    0|\n",
      "|      801 STANYAN ST|       L|          |[37.767202,-122.4...|       RPD|      PPA|          |   324|       0|    0|\n",
      "+--------------------+--------+----------+--------------------+----------+---------+----------+------+--------+-----+\n",
      "only showing top 10 rows\n",
      "\n"
     ]
    }
   ],
   "source": [
    "parking.show(10)"
   ]
  },
  {
   "cell_type": "markdown",
   "metadata": {},
   "source": [
    "### Create and Query Temp Table"
   ]
  },
  {
   "cell_type": "code",
   "execution_count": 20,
   "metadata": {
    "collapsed": false
   },
   "outputs": [],
   "source": [
    "parking.registerTempTable(\"park\")"
   ]
  },
  {
   "cell_type": "code",
   "execution_count": 21,
   "metadata": {
    "collapsed": false
   },
   "outputs": [
    {
     "name": "stdout",
     "output_type": "stream",
     "text": [
      "+---------+----------+-----+----------+\n",
      "|primetype|secondtype|count|avg_spaces|\n",
      "+---------+----------+-----+----------+\n",
      "|      PPA|          |  462|     210.0|\n",
      "|      PHO|          |  300|      69.0|\n",
      "|      CPO|          |  163|      53.0|\n",
      "|      CGO|          |   49|     135.0|\n",
      "|      PPA|       PHO|   19|     178.0|\n",
      "|      PPA|       CPO|    2|     263.0|\n",
      "|      PHO|       CPO|    1|     130.0|\n",
      "|      PPA|       RPO|    1|      87.0|\n",
      "|      CPO|       PPA|    1|      12.0|\n",
      "+---------+----------+-----+----------+\n",
      "\n"
     ]
    }
   ],
   "source": [
    "aggr_by_type = sqlContext.sql(\"SELECT primetype, secondtype, count(1) AS count, round(avg(regcap), 0) AS avg_spaces \" +\n",
    "                              \"FROM park \" +\n",
    "                              \"GROUP BY primetype, secondtype \" +\n",
    "                              \"HAVING trim(primetype) != '' \" +\n",
    "                              \"ORDER BY count DESC\")\n",
    "\n",
    "aggr_by_type.show(10)"
   ]
  },
  {
   "cell_type": "markdown",
   "metadata": {},
   "source": [
    "We can rewrite the SQL query in the previous example by chaining several simple DataFrame operations."
   ]
  },
  {
   "cell_type": "code",
   "execution_count": 22,
   "metadata": {
    "collapsed": false
   },
   "outputs": [
    {
     "name": "stdout",
     "output_type": "stream",
     "text": [
      "+---------+----------+-----+----------+\n",
      "|primetype|secondtype|count|avg_spaces|\n",
      "+---------+----------+-----+----------+\n",
      "|      PPA|          |  462|     210.0|\n",
      "|      PHO|          |  300|      69.0|\n",
      "|      CPO|          |  163|      53.0|\n",
      "|      CGO|          |   49|     135.0|\n",
      "|      PPA|       PHO|   19|     178.0|\n",
      "|      PPA|       CPO|    2|     263.0|\n",
      "|      PHO|       CPO|    1|     130.0|\n",
      "|      PPA|       RPO|    1|      87.0|\n",
      "|      CPO|       PPA|    1|      12.0|\n",
      "+---------+----------+-----+----------+\n",
      "\n"
     ]
    }
   ],
   "source": [
    "from pyspark.sql import functions as F\n",
    "\n",
    "aggr_by_type = parking.select(\"primetype\", \"secondtype\", \"regcap\") \\\n",
    "    .where(\"trim(primetype) != ''\") \\\n",
    "    .groupBy(\"primetype\", \"secondtype\") \\\n",
    "    .agg(\n",
    "        F.count(\"*\").alias(\"count\"),\n",
    "        F.round(F.avg(\"regcap\"), 0).alias(\"avg_spaces\")\n",
    "        ) \\\n",
    "    .sort(\"count\", ascending=False)\n",
    "\n",
    "aggr_by_type.show(10)"
   ]
  },
  {
   "cell_type": "markdown",
   "metadata": {},
   "source": [
    "### Using Describe and Crosstab to Summarize"
   ]
  },
  {
   "cell_type": "code",
   "execution_count": 23,
   "metadata": {
    "collapsed": false
   },
   "outputs": [
    {
     "name": "stdout",
     "output_type": "stream",
     "text": [
      "+-------+------------------+------------------+------------------+\n",
      "|summary|            regcap|          valetcap|             mccap|\n",
      "+-------+------------------+------------------+------------------+\n",
      "|  count|              1000|              1000|              1000|\n",
      "|   mean|           137.294|             3.297|             0.184|\n",
      "| stddev|361.05120902655824|22.624824279398823|1.9015151221485882|\n",
      "|    min|                 0|                 0|                 0|\n",
      "|    max|              9000|               430|                47|\n",
      "+-------+------------------+------------------+------------------+\n",
      "\n"
     ]
    }
   ],
   "source": [
    "parking.describe(\"regcap\", \"valetcap\", \"mccap\").show()"
   ]
  },
  {
   "cell_type": "code",
   "execution_count": 25,
   "metadata": {
    "collapsed": false,
    "scrolled": false
   },
   "outputs": [
    {
     "name": "stdout",
     "output_type": "stream",
     "text": [
      "+-------------------+---+---+---+---+---+\n",
      "|    owner_primetype|PPA|PHO|CPO|CGO|   |\n",
      "+-------------------+---+---+---+---+---+\n",
      "|         Port of SF|  7|  7|  0|  4|  0|\n",
      "|               SFPD|  0|  3|  0|  6|  0|\n",
      "|              SFMTA| 42| 14|  0|  0|  0|\n",
      "|GG Bridge Authority|  2|  0|  0|  0|  0|\n",
      "|               SFSU|  2|  6|  0|  0|  0|\n",
      "|               SFRA|  2|  0|  0|  0|  0|\n",
      "|                LHH|  0|  5|  0|  0|  0|\n",
      "|                DMV|  0|  0|  1|  0|  0|\n",
      "|           Caltrans|  0|  0|  0|  1|  0|\n",
      "|           Presidio|  5|  1|  1|  2|  0|\n",
      "+-------------------+---+---+---+---+---+\n",
      "only showing top 10 rows\n",
      "\n"
     ]
    }
   ],
   "source": [
    "parking.stat.crosstab(\"owner\", \"primetype\").show(10)"
   ]
  },
  {
   "cell_type": "markdown",
   "metadata": {},
   "source": [
    "### Adding Neighborhood Name\n",
    "\n",
    "Define another function that will take a “location_1” struct type and use Google’s Geocoding API to perform a lookup on the latitude and longitude to return the neighborhood name. "
   ]
  },
  {
   "cell_type": "code",
   "execution_count": 26,
   "metadata": {
    "collapsed": false
   },
   "outputs": [],
   "source": [
    "import requests\n",
    "\n",
    "def to_neighborhood(location):\n",
    "    \"\"\"\n",
    "    Uses Google's Geocoding API to perform a reverse-lookup on latitude and\n",
    "    longitude\n",
    "    https://developers.google.com/maps/documentation/geocoding/\n",
    "    intro#reverse-example\n",
    "    \"\"\"\n",
    "    name = 'N/A'\n",
    "    lat = location.latitude\n",
    "    long = location.longitude\n",
    "\n",
    "    r = requests.get(\n",
    "        'https://maps.googleapis.com/maps/api/geocode/json?latlng=%s,%s' %(lat, long))\n",
    "\n",
    "    if r.status_code == 200:\n",
    "        content = r.json()\n",
    "        # results is a list of matching places\n",
    "        places = content['results']\n",
    "        neighborhoods = [p['formatted_address'] for p in places if\n",
    "        'neighborhood' in p['types']]\n",
    "\n",
    "    if neighborhoods:\n",
    "        # Addresses are formatted as Japantown, San Francisco, CA\n",
    "        # so split on comma and just return neighborhood name\n",
    "        name = neighborhoods[0].split(',')[0]\n",
    "\n",
    "    return name"
   ]
  },
  {
   "cell_type": "markdown",
   "metadata": {},
   "source": [
    "The `pyspark.sql.functions` module provides the `udf` function to register a user-defined function (UDF). We declare an inline UDF by passing UDF a callable Python function and the Spark SQL data type that corresponds to the return type. \n",
    "\n",
    "In this case, we are returning a string so we will use the StringType data type from `pyspark.sql.types`. Once registered, we can use the UDF to reformat the “location_1” column with a withColumn expression:"
   ]
  },
  {
   "cell_type": "code",
   "execution_count": 27,
   "metadata": {
    "collapsed": false
   },
   "outputs": [
    {
     "name": "stdout",
     "output_type": "stream",
     "text": [
      "+---------------+---------+----------+--------+------+--------+-----+\n",
      "|     location_1|primetype|landusetyp|garorlot|regcap|valetcap|mccap|\n",
      "+---------------+---------+----------+--------+------+--------+-----+\n",
      "|South of Market|      PPA|          |       G|  2585|       0|   47|\n",
      "|            N/A|      PPA|          |       G|  1865|       0|    0|\n",
      "|            N/A|      PPA|          |       G|  1095|       0|    0|\n",
      "|            N/A|      PPA|          |       G|   985|       0|    0|\n",
      "|     Tenderloin|      PPA|          |       G|   925|       0|    0|\n",
      "|            N/A|      PPA|          |       G|   850|       0|    0|\n",
      "|            N/A|      PPA|          |       G|   843|       0|    0|\n",
      "|            N/A|      PPA|          |       G|   807|       0|    0|\n",
      "|            N/A|      PPA|          |       G|   752|       0|    0|\n",
      "|      Japantown|      PPA|          |       G|   747|       0|    0|\n",
      "|      Chinatown|      PPA|          |       G|   700|       0|    0|\n",
      "|            N/A|      PPA|          |       G|   618|       0|    0|\n",
      "|      Chinatown|      PPA|          |       G|   600|       0|    0|\n",
      "|            N/A|      PPA|          |       G|   350|       0|    0|\n",
      "|            N/A|      PHO|          |       G|   227|       0|    0|\n",
      "|            N/A|      PPA|          |       G|   205|       0|    0|\n",
      "|      Japantown|      PPA|          |       G|   177|       0|    0|\n",
      "|   Russian Hill|      PPA|          |       G|   163|       0|    0|\n",
      "|   Russian Hill|      PPA|          |       G|   162|       0|    0|\n",
      "|            N/A|      PHO|          |       L|   150|       0|    0|\n",
      "+---------------+---------+----------+--------+------+--------+-----+\n",
      "only showing top 20 rows\n",
      "\n"
     ]
    }
   ],
   "source": [
    "from pyspark.sql.functions import udf\n",
    "from pyspark.sql.types import StringType\n",
    "\n",
    "location_to_neighborhood=udf(to_neighborhood, StringType())\n",
    "\n",
    "sfmta_parking = parking.filter(parking.owner == 'SFMTA') \\\n",
    "    .select(\"location_1\", \"primetype\", \"landusetyp\",\"garorlot\", \"regcap\", \"valetcap\", \"mccap\") \\\n",
    "    .withColumn(\"location_1\",location_to_neighborhood(\"location_1\")) \\\n",
    "    .sort(\"regcap\", ascending=False)\n",
    "\n",
    "sfmta_parking.show()"
   ]
  }
 ],
 "metadata": {
  "kernelspec": {
   "display_name": "Python 2",
   "language": "python",
   "name": "python2"
  },
  "language_info": {
   "codemirror_mode": {
    "name": "ipython",
    "version": 2
   },
   "file_extension": ".py",
   "mimetype": "text/x-python",
   "name": "python",
   "nbconvert_exporter": "python",
   "pygments_lexer": "ipython2",
   "version": "2.7.11"
  }
 },
 "nbformat": 4,
 "nbformat_minor": 0
}
