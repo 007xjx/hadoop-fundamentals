{
 "cells": [
  {
   "cell_type": "markdown",
   "metadata": {},
   "source": [
    "# Cluster Test \n",
    "\n",
    "WordCount is the \"canary in the coal mine\" for testing clusters because counting the frequency of the occurence of words in text is \"embarrassingly parallel\". As a result, testing access to the cluster usually involves running a simple wordcount on a file in HDFS. "
   ]
  },
  {
   "cell_type": "code",
   "execution_count": 2,
   "metadata": {
    "collapsed": true
   },
   "outputs": [],
   "source": [
    "## Imports\n",
    "import os \n",
    "\n",
    "from os import path\n",
    "from operator import add "
   ]
  },
  {
   "cell_type": "code",
   "execution_count": 3,
   "metadata": {
    "collapsed": true
   },
   "outputs": [],
   "source": [
    "## Helper Variables\n",
    "HDFS = \"hdfs://{}\".format(os.environ['HDFS'])\n",
    "USER = path.join(HDFS, \"user\", \"ec2-user\")"
   ]
  },
  {
   "cell_type": "code",
   "execution_count": 4,
   "metadata": {
    "collapsed": false
   },
   "outputs": [],
   "source": [
    "# Conduct the wordcount, loading shakespeare as a text RDD. \n",
    "text = sc.textFile(path.join(USER, \"shakespeare.txt\"))\n",
    "\n",
    "# Map the split function and assign each word a token of 1 \n",
    "text = text.flatMap(lambda s: s.split())\n",
    "text = text.map(lambda s: (s, 1))\n",
    "\n",
    "# Reduce the words by summing their counts, then sort by word count. \n",
    "text = text.reduceByKey(add)\n",
    "text = text.sortBy(lambda s: s[1], ascending=False)"
   ]
  },
  {
   "cell_type": "code",
   "execution_count": 5,
   "metadata": {
    "collapsed": false
   },
   "outputs": [
    {
     "data": {
      "text/plain": [
       "[(u'the', 25816),\n",
       " (u'I', 20402),\n",
       " (u'and', 19254),\n",
       " (u'to', 17222),\n",
       " (u'of', 16535),\n",
       " (u'a', 13870),\n",
       " (u'my', 11280),\n",
       " (u'in', 10347),\n",
       " (u'you', 9267),\n",
       " (u'is', 8239),\n",
       " (u'that', 7980),\n",
       " (u'And', 7313),\n",
       " (u'not', 7257),\n",
       " (u'with', 7221),\n",
       " (u'his', 6712),\n",
       " (u'be', 6293),\n",
       " (u'your', 6236),\n",
       " (u'for', 5974),\n",
       " (u'have', 5438),\n",
       " (u'it', 5214)]"
      ]
     },
     "execution_count": 5,
     "metadata": {},
     "output_type": "execute_result"
    }
   ],
   "source": [
    "# Print out the most common words \n",
    "text.take(20)"
   ]
  }
 ],
 "metadata": {
  "kernelspec": {
   "display_name": "Python 2",
   "language": "python",
   "name": "python2"
  },
  "language_info": {
   "codemirror_mode": {
    "name": "ipython",
    "version": 2
   },
   "file_extension": ".py",
   "mimetype": "text/x-python",
   "name": "python",
   "nbconvert_exporter": "python",
   "pygments_lexer": "ipython2",
   "version": "2.7.11"
  }
 },
 "nbformat": 4,
 "nbformat_minor": 0
}
