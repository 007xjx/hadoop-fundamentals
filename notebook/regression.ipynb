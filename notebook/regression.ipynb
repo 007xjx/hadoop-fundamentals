{
 "cells": [
  {
   "cell_type": "code",
   "execution_count": null,
   "metadata": {
    "collapsed": true
   },
   "outputs": [],
   "source": [
    "%matplotlib inline"
   ]
  },
  {
   "cell_type": "markdown",
   "metadata": {},
   "source": [
    "## Regression"
   ]
  },
  {
   "cell_type": "code",
   "execution_count": null,
   "metadata": {
    "collapsed": true
   },
   "outputs": [],
   "source": [
    "import os \n",
    "import sklearn\n",
    "import numpy as np\n",
    "import pandas as pd\n",
    "\n",
    "from os import path as filepath\n",
    "#from pyspark import SparkConf, SparkContext\n",
    "#from pyspark.sql import SQLContext"
   ]
  },
  {
   "cell_type": "code",
   "execution_count": null,
   "metadata": {
    "collapsed": false
   },
   "outputs": [],
   "source": [
    "# Fixtures for HDFS\n",
    "# HDFS = \"hdfs://{}\".format(os.environ[\"HDFS\"])\n",
    "# DATA = filepath.join(HDFS, \"user\", \"ec2-user\")\n",
    "\n",
    "# Fixtures for Local \n",
    "DATA   = os.path.abspath(filepath.join(\"..\", \"data\"))\n",
    "\n",
    "WINE   = filepath.join(DATA, \"winequality\")\n",
    "REDS   = filepath.join(WINE, \"winequality-red.csv\")\n",
    "WHITES = filepath.join(WINE, \"winequality-white.csv\")"
   ]
  },
  {
   "cell_type": "code",
   "execution_count": null,
   "metadata": {
    "collapsed": false
   },
   "outputs": [],
   "source": [
    "def parse(line, sep=';'):\n",
    "    \"\"\"\n",
    "    Parses a line based on separator\n",
    "    \"\"\"\n",
    "    fields = line.strip().split(sep)\n",
    "    try:\n",
    "        return map(float, fields)\n",
    "    except:\n",
    "        return None #Header line will result in None\n",
    "\n",
    "# Select reds, whites, or all wines to regress on!\n",
    "# data = WINE\n",
    "data = REDS\n",
    "# data = WHITES\n",
    "\n",
    "# Load the data and parse it \n",
    "wine = sc.textFile(data).map(parse)\n",
    "\n",
    "# Filter out None resulting from first line\n",
    "wine = wine.filter(lambda r: r is not None)"
   ]
  },
  {
   "cell_type": "code",
   "execution_count": null,
   "metadata": {
    "collapsed": false
   },
   "outputs": [],
   "source": [
    "columns = [\"fixed acidity\",\"volatile acidity\",\"citric acid\",\"residual sugar\",\"chlorides\",\"free sulfur dioxide\",\"total sulfur dioxide\",\"density\",\"pH\",\"sulphates\",\"alcohol\",\"quality\"]\n",
    "wineDF = wine.toDF(columns)\n",
    "wineDF.show()"
   ]
  },
  {
   "cell_type": "markdown",
   "metadata": {},
   "source": [
    "## Extract Features "
   ]
  },
  {
   "cell_type": "code",
   "execution_count": null,
   "metadata": {
    "collapsed": false
   },
   "outputs": [],
   "source": [
    "from pyspark.ml.linalg import Vectors\n",
    "\n",
    "vecs = wine.map(lambda r: (r[-1], Vectors.dense(r[:-1]))).toDF([\"label\", \"features\"])\n",
    "vecs.show()"
   ]
  },
  {
   "cell_type": "markdown",
   "metadata": {},
   "source": [
    "## Models"
   ]
  },
  {
   "cell_type": "code",
   "execution_count": null,
   "metadata": {
    "collapsed": true
   },
   "outputs": [],
   "source": [
    "# Import the model family\n",
    "from pyspark.ml.regression import LinearRegression"
   ]
  },
  {
   "cell_type": "code",
   "execution_count": null,
   "metadata": {
    "collapsed": false
   },
   "outputs": [],
   "source": [
    "# Instantiate the model form \n",
    "reg = LinearRegression(maxIter=10, regParam=0.3, elasticNetParam=0.8)\n",
    "\n",
    "# Fit the model\n",
    "model = reg.fit(vecs)\n",
    "\n",
    "# Print the coefficients and intercept for linear regression\n",
    "print(\"Coefficients: {}\".format(model.coefficients))\n",
    "print(\"Intercept: {}\".format(model.intercept))\n",
    "\n",
    "# Summarize the model over the training set and print out some metrics\n",
    "print(\"Iterations: {}\".format(model.summary.totalIterations))\n",
    "print(\"Objective History: {}\".format(model.summary.objectiveHistory))\n",
    "\n",
    "# Residuals and Scores\n",
    "model.summary.residuals.show()\n",
    "print(\"RMSE: {:0.3f}\".format(model.summary.rootMeanSquaredError))\n",
    "print(\"r2: {:0.3f}\".format(model.summary.r2))"
   ]
  }
 ],
 "metadata": {
  "kernelspec": {
   "display_name": "Python 2",
   "language": "python",
   "name": "python2"
  },
  "language_info": {
   "codemirror_mode": {
    "name": "ipython",
    "version": 2
   },
   "file_extension": ".py",
   "mimetype": "text/x-python",
   "name": "python",
   "nbconvert_exporter": "python",
   "pygments_lexer": "ipython2",
   "version": "2.7.12"
  }
 },
 "nbformat": 4,
 "nbformat_minor": 0
}
