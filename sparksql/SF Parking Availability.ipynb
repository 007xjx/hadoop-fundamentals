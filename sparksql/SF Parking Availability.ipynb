{
 "cells": [
  {
   "cell_type": "code",
   "execution_count": 38,
   "metadata": {
    "collapsed": true
   },
   "outputs": [],
   "source": [
    "from pyspark.sql import SQLContext\n",
    "sqlContext = SQLContext(sc)"
   ]
  },
  {
   "cell_type": "code",
   "execution_count": 39,
   "metadata": {
    "collapsed": true
   },
   "outputs": [],
   "source": [
    "parking = sqlContext.read.json(\"../data/sf_parking/sf_parking_clean.json\")"
   ]
  },
  {
   "cell_type": "code",
   "execution_count": 40,
   "metadata": {
    "collapsed": false
   },
   "outputs": [
    {
     "name": "stdout",
     "output_type": "stream",
     "text": [
      "root\n",
      " |-- address: string (nullable = true)\n",
      " |-- garorlot: string (nullable = true)\n",
      " |-- landusetyp: string (nullable = true)\n",
      " |-- location_1: struct (nullable = true)\n",
      " |    |-- latitude: string (nullable = true)\n",
      " |    |-- longitude: string (nullable = true)\n",
      " |    |-- needs_recoding: boolean (nullable = true)\n",
      " |-- mccap: string (nullable = true)\n",
      " |-- owner: string (nullable = true)\n",
      " |-- primetype: string (nullable = true)\n",
      " |-- regcap: string (nullable = true)\n",
      " |-- secondtype: string (nullable = true)\n",
      " |-- valetcap: string (nullable = true)\n",
      "\n"
     ]
    }
   ],
   "source": [
    "parking.printSchema()"
   ]
  },
  {
   "cell_type": "code",
   "execution_count": 41,
   "metadata": {
    "collapsed": false
   },
   "outputs": [
    {
     "data": {
      "text/plain": [
       "Row(address=u'2110 Market St', garorlot=u'L', landusetyp=u'restaurant', location_1=Row(latitude=u'37.767378', longitude=u'-122.429344', needs_recoding=False), mccap=u'0', owner=u'Private', primetype=u'PPA', regcap=u'13', secondtype=u' ', valetcap=u'0')"
      ]
     },
     "execution_count": 41,
     "metadata": {},
     "output_type": "execute_result"
    }
   ],
   "source": [
    "parking.first()"
   ]
  },
  {
   "cell_type": "code",
   "execution_count": 42,
   "metadata": {
    "collapsed": true
   },
   "outputs": [],
   "source": [
    "parking.registerTempTable(\"parking\")"
   ]
  },
  {
   "cell_type": "code",
   "execution_count": 43,
   "metadata": {
    "collapsed": false
   },
   "outputs": [
    {
     "name": "stdout",
     "output_type": "stream",
     "text": [
      "+--------------------+--------+----------+--------------------+-----+----------+---------+------+----------+--------+\n",
      "|             address|garorlot|landusetyp|          location_1|mccap|     owner|primetype|regcap|secondtype|valetcap|\n",
      "+--------------------+--------+----------+--------------------+-----+----------+---------+------+----------+--------+\n",
      "|      2110 Market St|       L|restaurant|[37.767378,-122.4...|    0|   Private|      PPA|    13|          |       0|\n",
      "|         993 Potrero|       L|          |[37.757272,-122.4...|    0|     SFMTA|      PPA|    34|          |       0|\n",
      "|601 Terry A Franc...|       L|          |[37.770135,-122.3...|    0|Port of SF|      PPA|    72|          |       0|\n",
      "|   11 SOUTH VAN NESS|       G|          |[37.77415,-122.41...|    0|   Private|      PHO|   130|       CPO|       0|\n",
      "|   101 CALIFORNIA ST|       G|          |[37.793243,-122.3...|    0|   Private|      PPA|   250|          |       0|\n",
      "|        2000 POST ST|       G|          |[37.785078,-122.4...|    0|   Private|      PPA|   304|          |       0|\n",
      "|   600 CALIFORNIA ST|       G|          |[37.792779,-122.4...|    0|   Private|      PPA|   197|          |       0|\n",
      "|       35 GILBERT ST|        |          |[37.774337,-122.4...|    0|   Private|      PPA|    80|          |       0|\n",
      "|        2355 POST ST|       L|          |[37.78397,-122.44...|    0|   Private|      PPA|    50|          |       0|\n",
      "|      801 STANYAN ST|       L|          |[37.767202,-122.4...|    0|       RPD|      PPA|   324|          |       0|\n",
      "|    2300 STOCKTON ST|       L|          |[37.807107,-122.4...|    0|   Private|      PPA|   200|          |       0|\n",
      "|         1 MARKET ST|       G|          |[37.794191,-122.3...|    0|   Private|      PPA|   160|          |       0|\n",
      "| 100 The Embarcadero|       L|          |[37.794444,-122.3...|    0|Port of SF|      PPA|   100|          |       0|\n",
      "|  1101 California St|       G|          |[37.791355,-122.4...|    0|   Private|      PPA|   500|          |       0|\n",
      "|      1390 Market St|       G|          |[37.777332,-122.4...|   10|   Private|      PPA|   401|       PHO|       0|\n",
      "|   150 CALIFORNIA ST|       G|          |[37.793588,-122.3...|    0|   Private|      PPA|    35|          |       0|\n",
      "|     153 TOWNSEND ST|       G|          |[37.779602,-122.3...|    0|   Private|      PPA|   371|          |       0|\n",
      "|  1700 California St|       G|          |[37.790504,-122.4...|    0|   Private|      PPA|   155|          |       0|\n",
      "|        185 BERRY ST|       G|          |[37.775972,-122.3...|    0|   Private|      PPA|   268|          |       0|\n",
      "|        199 BEALE ST|       L|          |[37.790147,-122.3...|    0|   Private|      PPA|    81|          |       0|\n",
      "+--------------------+--------+----------+--------------------+-----+----------+---------+------+----------+--------+\n",
      "only showing top 20 rows\n",
      "\n"
     ]
    }
   ],
   "source": [
    "parking.show()"
   ]
  },
  {
   "cell_type": "code",
   "execution_count": 44,
   "metadata": {
    "collapsed": false
   },
   "outputs": [],
   "source": [
    "aggr_by_type = sqlContext.sql(\"SELECT primetype, secondtype, count(1) AS count, round(avg(regcap), 0) AS avg_spaces \" +\n",
    "                              \"FROM parking \" +\n",
    "                              \"GROUP BY primetype, secondtype \" +\n",
    "                              \"HAVING trim(primetype) != '' \" +\n",
    "                              \"ORDER BY count DESC\")"
   ]
  },
  {
   "cell_type": "code",
   "execution_count": 45,
   "metadata": {
    "collapsed": false
   },
   "outputs": [
    {
     "name": "stdout",
     "output_type": "stream",
     "text": [
      "+---------+----------+-----+----------+\n",
      "|primetype|secondtype|count|avg_spaces|\n",
      "+---------+----------+-----+----------+\n",
      "|      PPA|          |  462|     210.0|\n",
      "|      PHO|          |  300|      69.0|\n",
      "|      CPO|          |  163|      53.0|\n",
      "|      CGO|          |   49|     135.0|\n",
      "|      PPA|       PHO|   19|     178.0|\n",
      "|      PPA|       CPO|    2|     263.0|\n",
      "|      PHO|       CPO|    1|     130.0|\n",
      "|      PPA|       RPO|    1|      87.0|\n",
      "|      CPO|       PPA|    1|      12.0|\n",
      "+---------+----------+-----+----------+\n",
      "\n"
     ]
    }
   ],
   "source": [
    "aggr_by_type.show()"
   ]
  },
  {
   "cell_type": "code",
   "execution_count": 46,
   "metadata": {
    "collapsed": false
   },
   "outputs": [],
   "source": [
    "from pyspark.sql import functions as F\n",
    "\n",
    "aggr_by_type = parking.select(\"primetype\", \"secondtype\", \"regcap\") \\\n",
    "                     .where(\"trim(primetype) != ''\") \\\n",
    "                     .groupBy(\"primetype\", \"secondtype\") \\\n",
    "                     .agg(\n",
    "                        F.count(\"*\").alias(\"count\"),\n",
    "                        F.round(F.avg(\"regcap\"), 0).alias(\"avg_spaces\")\n",
    "                      ).sort(\"count\", ascending=False)\n",
    "                     "
   ]
  },
  {
   "cell_type": "code",
   "execution_count": 47,
   "metadata": {
    "collapsed": false
   },
   "outputs": [
    {
     "name": "stdout",
     "output_type": "stream",
     "text": [
      "+---------+----------+-----+----------+\n",
      "|primetype|secondtype|count|avg_spaces|\n",
      "+---------+----------+-----+----------+\n",
      "|      PPA|          |  462|     210.0|\n",
      "|      PHO|          |  300|      69.0|\n",
      "|      CPO|          |  163|      53.0|\n",
      "|      CGO|          |   49|     135.0|\n",
      "|      PPA|       PHO|   19|     178.0|\n",
      "|      PPA|       CPO|    2|     263.0|\n",
      "|      PHO|       CPO|    1|     130.0|\n",
      "|      PPA|       RPO|    1|      87.0|\n",
      "|      CPO|       PPA|    1|      12.0|\n",
      "+---------+----------+-----+----------+\n",
      "\n"
     ]
    }
   ],
   "source": [
    "aggr_by_type.show()"
   ]
  },
  {
   "cell_type": "code",
   "execution_count": 48,
   "metadata": {
    "collapsed": false
   },
   "outputs": [
    {
     "name": "stdout",
     "output_type": "stream",
     "text": [
      "+-------+------------------+------------------+------------------+\n",
      "|summary|            regcap|          valetcap|             mccap|\n",
      "+-------+------------------+------------------+------------------+\n",
      "|  count|              1000|              1000|              1000|\n",
      "|   mean|           137.294|             3.297|             0.184|\n",
      "| stddev|361.05120902655824|22.624824279398823|1.9015151221485882|\n",
      "|    min|                 0|                 0|                 0|\n",
      "|    max|               998|                96|                 8|\n",
      "+-------+------------------+------------------+------------------+\n",
      "\n"
     ]
    }
   ],
   "source": [
    "parking.describe(\"regcap\", \"valetcap\", \"mccap\").show()"
   ]
  },
  {
   "cell_type": "code",
   "execution_count": 49,
   "metadata": {
    "collapsed": false
   },
   "outputs": [
    {
     "name": "stdout",
     "output_type": "stream",
     "text": [
      "+-------------------+---+---+---+---+---+\n",
      "|    owner_primetype|PPA|PHO|CPO|CGO|   |\n",
      "+-------------------+---+---+---+---+---+\n",
      "|         Port of SF|  7|  7|  0|  4|  0|\n",
      "|               SFPD|  0|  3|  0|  6|  0|\n",
      "|              SFMTA| 42| 14|  0|  0|  0|\n",
      "|GG Bridge Authority|  2|  0|  0|  0|  0|\n",
      "|               SFSU|  2|  6|  0|  0|  0|\n",
      "|               SFRA|  2|  0|  0|  0|  0|\n",
      "|                LHH|  0|  5|  0|  0|  0|\n",
      "|                DMV|  0|  0|  1|  0|  0|\n",
      "|           Caltrans|  0|  0|  0|  1|  0|\n",
      "|           Presidio|  5|  1|  1|  2|  0|\n",
      "|              SFPUC|  0|  0|  0|  5|  0|\n",
      "|       City College|  0|  7|  0|  0|  0|\n",
      "|                 UC|  1|  0|  0|  0|  0|\n",
      "|                RPD|  3|  1|  0|  4|  0|\n",
      "|              SFUSD|  0|  5|  0|  0|  0|\n",
      "|        State of CA|  0|  1|  0|  0|  0|\n",
      "|               USPS|  0|  0|  0|  4|  0|\n",
      "|            Customs|  0|  0|  0|  1|  0|\n",
      "|              GGNRA|  1|  0|  1|  0|  0|\n",
      "|               UCSF| 13|  8|  0|  0|  0|\n",
      "+-------------------+---+---+---+---+---+\n",
      "only showing top 20 rows\n",
      "\n"
     ]
    }
   ],
   "source": [
    "parking.stat.crosstab(\"owner\", \"primetype\").show()"
   ]
  },
  {
   "cell_type": "code",
   "execution_count": 50,
   "metadata": {
    "collapsed": false
   },
   "outputs": [
    {
     "name": "stdout",
     "output_type": "stream",
     "text": [
      "root\n",
      " |-- address: string (nullable = true)\n",
      " |-- garorlot: string (nullable = true)\n",
      " |-- landusetyp: string (nullable = true)\n",
      " |-- location_1: struct (nullable = true)\n",
      " |    |-- latitude: string (nullable = true)\n",
      " |    |-- longitude: string (nullable = true)\n",
      " |    |-- needs_recoding: boolean (nullable = true)\n",
      " |-- mccap: string (nullable = true)\n",
      " |-- owner: string (nullable = true)\n",
      " |-- primetype: string (nullable = true)\n",
      " |-- secondtype: string (nullable = true)\n",
      " |-- valetcap: string (nullable = true)\n",
      " |-- regcap: integer (nullable = true)\n",
      "\n"
     ]
    }
   ],
   "source": [
    "parking = parking.withColumnRenamed('regcap', 'regcap_old')\n",
    "parking = parking.withColumn('regcap', parking['regcap_old'].cast('int'))\n",
    "parking = parking.drop('regcap_old')\n",
    "parking.printSchema()"
   ]
  },
  {
   "cell_type": "code",
   "execution_count": 51,
   "metadata": {
    "collapsed": true
   },
   "outputs": [],
   "source": [
    "def convert_column(df, col, new_type):\n",
    "    old_col = '%s_old' % col\n",
    "    df = df.withColumnRenamed(col, old_col)\n",
    "    df = df.withColumn(col, df[old_col].cast(new_type))\n",
    "    df.drop(old_col)\n",
    "    return df"
   ]
  },
  {
   "cell_type": "code",
   "execution_count": 52,
   "metadata": {
    "collapsed": false
   },
   "outputs": [
    {
     "name": "stdout",
     "output_type": "stream",
     "text": [
      "root\n",
      " |-- address: string (nullable = true)\n",
      " |-- garorlot: string (nullable = true)\n",
      " |-- landusetyp: string (nullable = true)\n",
      " |-- location_1: struct (nullable = true)\n",
      " |    |-- latitude: string (nullable = true)\n",
      " |    |-- longitude: string (nullable = true)\n",
      " |    |-- needs_recoding: boolean (nullable = true)\n",
      " |-- mccap_old: string (nullable = true)\n",
      " |-- owner: string (nullable = true)\n",
      " |-- primetype: string (nullable = true)\n",
      " |-- secondtype: string (nullable = true)\n",
      " |-- valetcap_old: string (nullable = true)\n",
      " |-- regcap: integer (nullable = true)\n",
      " |-- valetcap: integer (nullable = true)\n",
      " |-- mccap: integer (nullable = true)\n",
      "\n"
     ]
    }
   ],
   "source": [
    "parking = convert_column(parking, 'valetcap', 'int')\n",
    "parking = convert_column(parking, 'mccap', 'int')\n",
    "parking.printSchema()"
   ]
  },
  {
   "cell_type": "code",
   "execution_count": 79,
   "metadata": {
    "collapsed": false
   },
   "outputs": [],
   "source": [
    "import requests\n",
    "\n",
    "def to_neighborhood(location):\n",
    "    \"\"\"\n",
    "    Uses Google's Geocoding API to perform a reverse-lookup on latitude and longitude\n",
    "    https://developers.google.com/maps/documentation/geocoding/intro#reverse-example\n",
    "    \"\"\"\n",
    "    name = 'N/A'\n",
    "    lat = location.latitude\n",
    "    long = location.longitude\n",
    "    \n",
    "    r = requests.get('https://maps.googleapis.com/maps/api/geocode/json?latlng=%s,%s' % (lat, long))\n",
    "    if r.status_code == 200:\n",
    "        content = r.json()\n",
    "        places = content['results']  # results is a list of matching places\n",
    "        neighborhoods = [p['formatted_address'] for p in places if 'neighborhood' in p['types']]\n",
    "        if neighborhoods:\n",
    "            # Addresses are formatted as Japantown, San Francisco, CA\n",
    "            # so split on comma and just return neighborhood name\n",
    "            name = neighborhoods[0].split(',')[0]\n",
    "    \n",
    "    return name"
   ]
  },
  {
   "cell_type": "code",
   "execution_count": 80,
   "metadata": {
    "collapsed": false
   },
   "outputs": [
    {
     "name": "stdout",
     "output_type": "stream",
     "text": [
      "+------------------+---------+--------+------+\n",
      "|        location_1|primetype|garorlot|regcap|\n",
      "+------------------+---------+--------+------+\n",
      "|  Mission District|      PPA|       L|    34|\n",
      "|     Westwood Park|      PPA|       L|    20|\n",
      "|        Tenderloin|      PPA|       G|   925|\n",
      "|      Outer Sunset|      PPA|       L|    24|\n",
      "|      Inner Sunset|      PPA|       L|    41|\n",
      "|      Inner Sunset|      PPA|       L|    36|\n",
      "|        Polk Gulch|      PPA|       G|   129|\n",
      "|         Japantown|      PPA|       G|   747|\n",
      "|   South of Market|      PHO|       G|    59|\n",
      "|         Japantown|      PPA|       G|   177|\n",
      "|       West Portal|      PPA|       L|    19|\n",
      "|   Mission Terrace|      PPA|       L|    28|\n",
      "|        Cow Hollow|      PPA|       G|   205|\n",
      "|   Pacific Heights|      PPA|       L|    48|\n",
      "|           Portola|      PPA|       L|    10|\n",
      "|Financial District|      PPA|       G|  1095|\n",
      "|  Mission District|      PPA|       G|   807|\n",
      "|          Lakeside|      PPA|       L|    20|\n",
      "|  Mission District|      PPA|       G|   850|\n",
      "|       South Beach|      PPA|       G|   752|\n",
      "+------------------+---------+--------+------+\n",
      "only showing top 20 rows\n",
      "\n"
     ]
    }
   ],
   "source": [
    "from pyspark.sql.functions import udf\n",
    "from pyspark.sql.types import StringType\n",
    "    \n",
    "location_to_neighborhood=udf(to_neighborhood, StringType())\n",
    "\n",
    "parking.filter(parking.owner == 'SFMTA') \\\n",
    "       .select(\"location_1\", \"primetype\", \"garorlot\", \"regcap\") \\\n",
    "       .withColumn(\"location_1\", location_to_neighborhood(\"location_1\")).show()"
   ]
  },
  {
   "cell_type": "code",
   "execution_count": null,
   "metadata": {
    "collapsed": true
   },
   "outputs": [],
   "source": []
  }
 ],
 "metadata": {
  "kernelspec": {
   "display_name": "pySpark (Spark 1.6.0)",
   "language": "python",
   "name": "pyspark"
  },
  "language_info": {
   "codemirror_mode": {
    "name": "ipython",
    "version": 2
   },
   "file_extension": ".py",
   "mimetype": "text/x-python",
   "name": "python",
   "nbconvert_exporter": "python",
   "pygments_lexer": "ipython2",
   "version": "2.7.11"
  }
 },
 "nbformat": 4,
 "nbformat_minor": 0
}
